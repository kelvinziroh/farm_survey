{
 "cells": [
  {
   "cell_type": "markdown",
   "id": "f662d169",
   "metadata": {},
   "source": [
    "# Understanding Maji Ndogo's agriculture"
   ]
  },
  {
   "cell_type": "markdown",
   "id": "8944ccbc",
   "metadata": {},
   "source": [
    "## Introduction"
   ]
  },
  {
   "cell_type": "markdown",
   "id": "cf2e633f",
   "metadata": {},
   "source": [
    "Maji Ndogo is a place with diverse and challenging agricultural landscapes. Before we dive into the 'how' of farming, we need to figure out the 'where' and 'what'. It's not just about deploying technology; it's about making informed decisions on where to plant specific crops, considering factors like rainfall, soil type, climate, and many others.\n",
    "\n",
    "This analysis is the groundwork for the entire automation project. We have an array of variables like `soil fertility`, `climate conditions`, and `geographical` data. By understanding these elements, we can recommend the best locations for different crops. It's a bit like solving a complex puzzle – each piece of data is crucial to seeing the bigger picture.\n",
    "\n",
    "We'll start by importing our dataset and transforming it into a Pandas DataFrame. It is currently in a SQLite database, and is split into separate tables. We expect a bit of a mess in the data – as it's part of the challenge. We need to clean it up and maybe reshape it to make sense of it. It's like sorting out the tools and materials we need and getting rid of what we don't.\n",
    "\n",
    "We'll dive deep into the data, looking for patterns, and correlations. Each clue in the data leads us closer to understanding the best farming practices for Maji Ndogo. So without dallying, Let's dive into our data and see what stories it has to tell us 🤓."
   ]
  },
  {
   "cell_type": "markdown",
   "id": "1f20e3ac-bd8a-4d32-9a7b-c6309528fc6f",
   "metadata": {},
   "source": [
    "## Data description"
   ]
  },
  {
   "cell_type": "markdown",
   "id": "fe0d0117-803e-41e2-b7d9-4f3b0632184e",
   "metadata": {},
   "source": [
    "We are going to work with data from 4 tables in our SQLite Database and below is a brief overview and description of the entities and their attributes as they exist in the database:\n",
    "\n",
    "**1. Geographic features**\n",
    "\n",
    "- **Field_ID:** A unique identifier for each field (BigInt).\n",
    " \n",
    "- **Elevation:** The elevation of the field above sea level in metres (Float).\n",
    "\n",
    "- **Latitude:** Geographical latitude of the field in degrees (Float).\n",
    "\n",
    "- **Longitude:** Geographical longitude of the field in degrees (Float).\n",
    "\n",
    "- **Location:** Province the field is in (Text).\n",
    "\n",
    "- **Slope:** The slope of the land in the field (Float).\n",
    "\n",
    "**2. Weather features**\n",
    "\n",
    "- **Field_ID:** Corresponding field identifier (BigInt).\n",
    "\n",
    "- **Rainfall:** Amount of rainfall in the area in mm (Float).\n",
    "\n",
    "- **Min_temperature_C:** Average minimum temperature recorded in Celsius (Float).\n",
    "\n",
    "- **Max_temperature_C:** Average maximum temperature recorded in Celsius (Float).\n",
    "\n",
    "- **Ave_temps:** Average temperature in Celcius (Float).\n",
    "\n",
    "**3. Soil and crop features**\n",
    "\n",
    "- **Field_ID:** Corresponding field identifier (BigInt).\n",
    "\n",
    "- **Soil_fertility:** A measure of soil fertility where 0 is infertile soil, and 1 is very fertile soil (Float).\n",
    "\n",
    "- **Soil_type:** Type of soil present in the field (Text).\n",
    "\n",
    "- **pH:** pH level of the soil, which is a measure of how acidic/basic the soil is (Float).\n",
    "\n",
    "**4. Farm management features**\n",
    "\n",
    "- **Field_ID:** Corresponding field identifier (BigInt).\n",
    "\n",
    "- **Pollution_level:** Level of pollution in the area where 0 is unpolluted and 1 is very polluted (Float).\n",
    "\n",
    "- **Plot_size:** Size of the plot in the field (Ha) (Float).\n",
    "\n",
    "- **Chosen_crop:** Type of crop chosen for cultivation (Text).\n",
    "\n",
    "- **Annual_yield:** Annual yield from the field (Float). This is the total output of the field. The field size and type of crop will affect the Annual Yield\n",
    "\n",
    "- **Standard_yield:** Standardised yield expected from the field, normalised per crop (Float). This is independent of field size, or crop type. Multiplying this number by the field size, and average crop yield will give the Annual_Yield."
   ]
  },
  {
   "cell_type": "markdown",
   "id": "6ab1683e-dc96-49bd-82e2-ce5c5c4cea76",
   "metadata": {},
   "source": [
    "**Average yield (tons/Ha) per crop type:**\n",
    "- **Coffee:** 1.5 \n",
    "\n",
    "- **Wheat:** 3\n",
    "\n",
    "- **Rice:** 4.5\n",
    "\n",
    "- **Maize:** 5.5\n",
    "\n",
    "- **Tea:** 1.2\n",
    "\n",
    "- **Potato:** 20\n",
    "\n",
    "- **Banana:** 30\n",
    "\n",
    "- **Cassava:** 13\n",
    "\n"
   ]
  },
  {
   "cell_type": "markdown",
   "id": "cf80203d-d360-4abf-9e6b-dd0d588d2693",
   "metadata": {},
   "source": [
    "## Notebook setup and data importation"
   ]
  },
  {
   "cell_type": "markdown",
   "id": "cb5d0587-4da9-4c1f-a246-85381f966e37",
   "metadata": {},
   "source": [
    "First, let's importe our SQL data from multiple tables into a single pandas DataFrame. This is a crucial step as it sets the foundation for all our subsequent steps to analyse the data.\n",
    "\n",
    "We're dealing with an SQLite database, `mn_farm_survey_small.db` in the `assets` folder, which contains multiple tables. We'll need to join these tables on a common key to create a comprehensive dataset for our analysis. The common key in our case is `Field_ID`."
   ]
  },
  {
   "cell_type": "code",
   "execution_count": 1,
   "id": "056309ab-ceca-43e1-9647-cadfbd4232c8",
   "metadata": {},
   "outputs": [],
   "source": [
    "# Import the necessary modules\n",
    "import pandas as pd\n",
    "from sqlalchemy import create_engine, text\n",
    "\n",
    "# Create an engine for the database\n",
    "engine = create_engine('sqlite:///../assets/mn_farm_survey_small.db') "
   ]
  },
  {
   "cell_type": "markdown",
   "id": "976cf224-7ff6-4dbc-96ed-e42e51cdd099",
   "metadata": {},
   "source": [
    "Next up, we test if the connection works by printing out all of the table names in the database."
   ]
  },
  {
   "cell_type": "code",
   "execution_count": 2,
   "id": "2dbb9597-92dd-4165-a552-892cf138da42",
   "metadata": {},
   "outputs": [
    {
     "name": "stdout",
     "output_type": "stream",
     "text": [
      "('geographic_features',)\n",
      "('weather_features',)\n",
      "('soil_and_crop_features',)\n",
      "('farm_management_features',)\n"
     ]
    }
   ],
   "source": [
    "with engine.connect() as connection:\n",
    "    result = connection.execute(text(\"SELECT name FROM sqlite_master WHERE type='table';\"))\n",
    "    for row in result:\n",
    "        print(row)"
   ]
  },
  {
   "cell_type": "markdown",
   "id": "6ce2023f",
   "metadata": {},
   "source": [
    "At this point, we have two choices:\n",
    "\n",
    "1. Either we import each table into a DataFrame, for example, `df_geographic`, then merge them together.\n",
    "\n",
    "2. Use one SQL query and read it into a single DataFrame.\n",
    "\n",
    "While both are equally viable, let's try to use a single SQL query to keep things simple."
   ]
  },
  {
   "cell_type": "markdown",
   "id": "aa9cd3cf",
   "metadata": {},
   "source": [
    "Next, we'll write an SQL query to join our tables. Combine all of the tables into a single query, using `Field_ID`."
   ]
  },
  {
   "cell_type": "code",
   "execution_count": 3,
   "id": "0c6a0d9f",
   "metadata": {},
   "outputs": [],
   "source": [
    "sql_query = \"\"\"\n",
    "SELECT\n",
    "    * \n",
    "FROM \n",
    "    geographic_features\n",
    "JOIN\n",
    "    weather_features\n",
    "    ON weather_features.Field_ID = geographic_features.Field_ID\n",
    "JOIN\n",
    "    soil_and_crop_features\n",
    "    ON soil_and_crop_features.Field_ID = geographic_features.Field_ID\n",
    "JOIN\n",
    "    farm_management_features\n",
    "    ON farm_management_features.Field_ID = geographic_features.Field_ID;\n",
    "\"\"\""
   ]
  },
  {
   "cell_type": "markdown",
   "id": "c476ff1c",
   "metadata": {},
   "source": [
    "With our engine and query ready, we'll use `Pandas` to execute the query. The `pd.read_sql_query` function fetches the data and loads it into a DataFrame – essentially transferring our data from the database into a familiar `Pandas` structure. If you use one query, you will import it all into `MD_agric_df`. "
   ]
  },
  {
   "cell_type": "code",
   "execution_count": 4,
   "id": "fd4653b4",
   "metadata": {},
   "outputs": [],
   "source": [
    "# Create a connection object\n",
    "with engine.connect() as connection:\n",
    "    \n",
    "    # Use Pandas to execute the query and store the result in a DataFrame\n",
    "    MD_agric_df = pd.read_sql_query(text(sql_query), connection)"
   ]
  },
  {
   "cell_type": "markdown",
   "id": "6171c658",
   "metadata": {},
   "source": [
    "Check the DataFrame to see if it loaded correctly."
   ]
  },
  {
   "cell_type": "code",
   "execution_count": 5,
   "id": "3e370c4c",
   "metadata": {},
   "outputs": [
    {
     "data": {
      "text/html": [
       "<div>\n",
       "<style scoped>\n",
       "    .dataframe tbody tr th:only-of-type {\n",
       "        vertical-align: middle;\n",
       "    }\n",
       "\n",
       "    .dataframe tbody tr th {\n",
       "        vertical-align: top;\n",
       "    }\n",
       "\n",
       "    .dataframe thead th {\n",
       "        text-align: right;\n",
       "    }\n",
       "</style>\n",
       "<table border=\"1\" class=\"dataframe\">\n",
       "  <thead>\n",
       "    <tr style=\"text-align: right;\">\n",
       "      <th></th>\n",
       "      <th>Field_ID</th>\n",
       "      <th>Elevation</th>\n",
       "      <th>Latitude</th>\n",
       "      <th>Longitude</th>\n",
       "      <th>Location</th>\n",
       "      <th>Slope</th>\n",
       "      <th>Field_ID</th>\n",
       "      <th>Rainfall</th>\n",
       "      <th>Min_temperature_C</th>\n",
       "      <th>Max_temperature_C</th>\n",
       "      <th>...</th>\n",
       "      <th>Field_ID</th>\n",
       "      <th>Soil_fertility</th>\n",
       "      <th>Soil_type</th>\n",
       "      <th>pH</th>\n",
       "      <th>Field_ID</th>\n",
       "      <th>Pollution_level</th>\n",
       "      <th>Plot_size</th>\n",
       "      <th>Crop_type</th>\n",
       "      <th>Annual_yield</th>\n",
       "      <th>Standard_yield</th>\n",
       "    </tr>\n",
       "  </thead>\n",
       "  <tbody>\n",
       "    <tr>\n",
       "      <th>0</th>\n",
       "      <td>40734</td>\n",
       "      <td>786.05580</td>\n",
       "      <td>-7.389911</td>\n",
       "      <td>-7.556202</td>\n",
       "      <td>Rural_Akatsi</td>\n",
       "      <td>14.795113</td>\n",
       "      <td>40734</td>\n",
       "      <td>1125.2</td>\n",
       "      <td>-3.1</td>\n",
       "      <td>33.1</td>\n",
       "      <td>...</td>\n",
       "      <td>40734</td>\n",
       "      <td>0.62</td>\n",
       "      <td>Sandy</td>\n",
       "      <td>6.169393</td>\n",
       "      <td>40734</td>\n",
       "      <td>0.085267</td>\n",
       "      <td>1.3</td>\n",
       "      <td>0.751354</td>\n",
       "      <td>cassava</td>\n",
       "      <td>0.577964</td>\n",
       "    </tr>\n",
       "    <tr>\n",
       "      <th>1</th>\n",
       "      <td>30629</td>\n",
       "      <td>674.33410</td>\n",
       "      <td>-7.736849</td>\n",
       "      <td>-1.051539</td>\n",
       "      <td>Rural_Sokoto</td>\n",
       "      <td>11.374611</td>\n",
       "      <td>30629</td>\n",
       "      <td>1450.7</td>\n",
       "      <td>-3.9</td>\n",
       "      <td>30.6</td>\n",
       "      <td>...</td>\n",
       "      <td>30629</td>\n",
       "      <td>0.64</td>\n",
       "      <td>Volcanic</td>\n",
       "      <td>5.676648</td>\n",
       "      <td>30629</td>\n",
       "      <td>0.399684</td>\n",
       "      <td>2.2</td>\n",
       "      <td>1.069865</td>\n",
       "      <td>cassava</td>\n",
       "      <td>0.486302</td>\n",
       "    </tr>\n",
       "    <tr>\n",
       "      <th>2</th>\n",
       "      <td>39924</td>\n",
       "      <td>826.53390</td>\n",
       "      <td>-9.926616</td>\n",
       "      <td>0.115156</td>\n",
       "      <td>Rural_Sokoto</td>\n",
       "      <td>11.339692</td>\n",
       "      <td>39924</td>\n",
       "      <td>2208.9</td>\n",
       "      <td>-1.8</td>\n",
       "      <td>28.4</td>\n",
       "      <td>...</td>\n",
       "      <td>39924</td>\n",
       "      <td>0.69</td>\n",
       "      <td>Volcanic</td>\n",
       "      <td>5.331993</td>\n",
       "      <td>39924</td>\n",
       "      <td>0.358029</td>\n",
       "      <td>3.4</td>\n",
       "      <td>2.208801</td>\n",
       "      <td>tea</td>\n",
       "      <td>0.649647</td>\n",
       "    </tr>\n",
       "    <tr>\n",
       "      <th>3</th>\n",
       "      <td>5754</td>\n",
       "      <td>574.94617</td>\n",
       "      <td>-2.420131</td>\n",
       "      <td>-6.592215</td>\n",
       "      <td>Rural_Kilimani</td>\n",
       "      <td>7.109855</td>\n",
       "      <td>5754</td>\n",
       "      <td>328.8</td>\n",
       "      <td>-5.8</td>\n",
       "      <td>32.2</td>\n",
       "      <td>...</td>\n",
       "      <td>5754</td>\n",
       "      <td>0.54</td>\n",
       "      <td>Loamy</td>\n",
       "      <td>5.328150</td>\n",
       "      <td>5754</td>\n",
       "      <td>0.286687</td>\n",
       "      <td>2.4</td>\n",
       "      <td>1.277635</td>\n",
       "      <td>cassava</td>\n",
       "      <td>0.532348</td>\n",
       "    </tr>\n",
       "    <tr>\n",
       "      <th>4</th>\n",
       "      <td>14146</td>\n",
       "      <td>886.35300</td>\n",
       "      <td>-3.055434</td>\n",
       "      <td>-7.952609</td>\n",
       "      <td>Rural_Kilimani</td>\n",
       "      <td>55.007656</td>\n",
       "      <td>14146</td>\n",
       "      <td>785.2</td>\n",
       "      <td>-2.5</td>\n",
       "      <td>31.0</td>\n",
       "      <td>...</td>\n",
       "      <td>14146</td>\n",
       "      <td>0.72</td>\n",
       "      <td>Sandy</td>\n",
       "      <td>5.721234</td>\n",
       "      <td>14146</td>\n",
       "      <td>0.043190</td>\n",
       "      <td>1.5</td>\n",
       "      <td>0.832614</td>\n",
       "      <td>wheat</td>\n",
       "      <td>0.555076</td>\n",
       "    </tr>\n",
       "  </tbody>\n",
       "</table>\n",
       "<p>5 rows × 21 columns</p>\n",
       "</div>"
      ],
      "text/plain": [
       "   Field_ID  Elevation  Latitude  Longitude        Location      Slope  \\\n",
       "0     40734  786.05580 -7.389911  -7.556202    Rural_Akatsi  14.795113   \n",
       "1     30629  674.33410 -7.736849  -1.051539    Rural_Sokoto  11.374611   \n",
       "2     39924  826.53390 -9.926616   0.115156    Rural_Sokoto  11.339692   \n",
       "3      5754  574.94617 -2.420131  -6.592215  Rural_Kilimani   7.109855   \n",
       "4     14146  886.35300 -3.055434  -7.952609  Rural_Kilimani  55.007656   \n",
       "\n",
       "   Field_ID  Rainfall  Min_temperature_C  Max_temperature_C  ...  Field_ID  \\\n",
       "0     40734    1125.2               -3.1               33.1  ...     40734   \n",
       "1     30629    1450.7               -3.9               30.6  ...     30629   \n",
       "2     39924    2208.9               -1.8               28.4  ...     39924   \n",
       "3      5754     328.8               -5.8               32.2  ...      5754   \n",
       "4     14146     785.2               -2.5               31.0  ...     14146   \n",
       "\n",
       "   Soil_fertility  Soil_type        pH  Field_ID  Pollution_level  Plot_size  \\\n",
       "0            0.62      Sandy  6.169393     40734         0.085267        1.3   \n",
       "1            0.64   Volcanic  5.676648     30629         0.399684        2.2   \n",
       "2            0.69   Volcanic  5.331993     39924         0.358029        3.4   \n",
       "3            0.54      Loamy  5.328150      5754         0.286687        2.4   \n",
       "4            0.72      Sandy  5.721234     14146         0.043190        1.5   \n",
       "\n",
       "   Crop_type  Annual_yield Standard_yield  \n",
       "0   0.751354       cassava       0.577964  \n",
       "1   1.069865       cassava       0.486302  \n",
       "2   2.208801           tea       0.649647  \n",
       "3   1.277635       cassava       0.532348  \n",
       "4   0.832614         wheat       0.555076  \n",
       "\n",
       "[5 rows x 21 columns]"
      ]
     },
     "execution_count": 5,
     "metadata": {},
     "output_type": "execute_result"
    }
   ],
   "source": [
    "MD_agric_df.head()"
   ]
  },
  {
   "cell_type": "markdown",
   "id": "0b0cc230",
   "metadata": {},
   "source": [
    "Note that there are a couple of `Field_ID` columns in our DataFrame that we need to remove since we're not interested in particular farms for now."
   ]
  },
  {
   "cell_type": "code",
   "execution_count": 6,
   "id": "d8e8d24c",
   "metadata": {},
   "outputs": [],
   "source": [
    "# Now, drop all columns named 'Field_ID'.\n",
    "MD_agric_df.drop(columns = 'Field_ID', inplace = True)"
   ]
  },
  {
   "cell_type": "markdown",
   "id": "0837de59",
   "metadata": {},
   "source": [
    "# Data cleaning"
   ]
  },
  {
   "cell_type": "markdown",
   "id": "8da2b362",
   "metadata": {},
   "source": [
    "Let us first inspect the data to see whether there are some inequities that need rectification before we continue with our data exploration. For accurate analysis, we need clean data and that's what we are going to embark on in this section."
   ]
  },
  {
   "cell_type": "code",
   "execution_count": 7,
   "id": "70fe0b3e-5374-4f11-bd45-7d3d3e06aa20",
   "metadata": {},
   "outputs": [
    {
     "name": "stdout",
     "output_type": "stream",
     "text": [
      "<class 'pandas.core.frame.DataFrame'>\n",
      "RangeIndex: 5654 entries, 0 to 5653\n",
      "Data columns (total 17 columns):\n",
      " #   Column             Non-Null Count  Dtype  \n",
      "---  ------             --------------  -----  \n",
      " 0   Elevation          5654 non-null   float64\n",
      " 1   Latitude           5654 non-null   float64\n",
      " 2   Longitude          5654 non-null   float64\n",
      " 3   Location           5654 non-null   object \n",
      " 4   Slope              5654 non-null   float64\n",
      " 5   Rainfall           5654 non-null   float64\n",
      " 6   Min_temperature_C  5654 non-null   float64\n",
      " 7   Max_temperature_C  5654 non-null   float64\n",
      " 8   Ave_temps          5654 non-null   float64\n",
      " 9   Soil_fertility     5654 non-null   float64\n",
      " 10  Soil_type          5654 non-null   object \n",
      " 11  pH                 5654 non-null   float64\n",
      " 12  Pollution_level    5654 non-null   float64\n",
      " 13  Plot_size          5654 non-null   float64\n",
      " 14  Crop_type          5654 non-null   float64\n",
      " 15  Annual_yield       5654 non-null   object \n",
      " 16  Standard_yield     5654 non-null   float64\n",
      "dtypes: float64(14), object(3)\n",
      "memory usage: 751.1+ KB\n"
     ]
    }
   ],
   "source": [
    "# Inspect basic info on the dataframe\n",
    "MD_agric_df.info()"
   ]
  },
  {
   "cell_type": "markdown",
   "id": "56aee11f-1b68-47d6-871d-f4a2c0ce01d9",
   "metadata": {},
   "source": [
    "We see that most of our columns are contain numerical values except for `Location`, `Soil_type` and `Annual_yield` 🤔🤷🏽‍♂️!? We'll circle back to that in a bit. Let's get the descriptive statistics of our numerical columns and see if we can find something unusual."
   ]
  },
  {
   "cell_type": "code",
   "execution_count": 8,
   "id": "f64a5e8e-8888-4216-a678-24e4c0db3e96",
   "metadata": {},
   "outputs": [
    {
     "data": {
      "text/html": [
       "<div>\n",
       "<style scoped>\n",
       "    .dataframe tbody tr th:only-of-type {\n",
       "        vertical-align: middle;\n",
       "    }\n",
       "\n",
       "    .dataframe tbody tr th {\n",
       "        vertical-align: top;\n",
       "    }\n",
       "\n",
       "    .dataframe thead th {\n",
       "        text-align: right;\n",
       "    }\n",
       "</style>\n",
       "<table border=\"1\" class=\"dataframe\">\n",
       "  <thead>\n",
       "    <tr style=\"text-align: right;\">\n",
       "      <th></th>\n",
       "      <th>Elevation</th>\n",
       "      <th>Latitude</th>\n",
       "      <th>Longitude</th>\n",
       "      <th>Slope</th>\n",
       "      <th>Rainfall</th>\n",
       "      <th>Min_temperature_C</th>\n",
       "      <th>Max_temperature_C</th>\n",
       "      <th>Ave_temps</th>\n",
       "      <th>Soil_fertility</th>\n",
       "      <th>pH</th>\n",
       "      <th>Pollution_level</th>\n",
       "      <th>Plot_size</th>\n",
       "      <th>Crop_type</th>\n",
       "      <th>Standard_yield</th>\n",
       "    </tr>\n",
       "  </thead>\n",
       "  <tbody>\n",
       "    <tr>\n",
       "      <th>count</th>\n",
       "      <td>5654.000000</td>\n",
       "      <td>5654.000000</td>\n",
       "      <td>5654.000000</td>\n",
       "      <td>5654.000000</td>\n",
       "      <td>5654.000000</td>\n",
       "      <td>5654.000000</td>\n",
       "      <td>5654.000000</td>\n",
       "      <td>5654.000000</td>\n",
       "      <td>5654.000000</td>\n",
       "      <td>5654.000000</td>\n",
       "      <td>5.654000e+03</td>\n",
       "      <td>5654.000000</td>\n",
       "      <td>5654.000000</td>\n",
       "      <td>5654.000000</td>\n",
       "    </tr>\n",
       "    <tr>\n",
       "      <th>mean</th>\n",
       "      <td>625.468485</td>\n",
       "      <td>-7.026330</td>\n",
       "      <td>-4.365755</td>\n",
       "      <td>11.742669</td>\n",
       "      <td>1201.943244</td>\n",
       "      <td>-4.411956</td>\n",
       "      <td>30.857057</td>\n",
       "      <td>13.222550</td>\n",
       "      <td>0.619308</td>\n",
       "      <td>5.607073</td>\n",
       "      <td>2.231923e-01</td>\n",
       "      <td>3.923965</td>\n",
       "      <td>2.090399</td>\n",
       "      <td>0.534405</td>\n",
       "    </tr>\n",
       "    <tr>\n",
       "      <th>std</th>\n",
       "      <td>213.768160</td>\n",
       "      <td>3.515839</td>\n",
       "      <td>2.706603</td>\n",
       "      <td>9.540599</td>\n",
       "      <td>499.782824</td>\n",
       "      <td>1.534330</td>\n",
       "      <td>1.884682</td>\n",
       "      <td>0.801636</td>\n",
       "      <td>0.044791</td>\n",
       "      <td>0.789215</td>\n",
       "      <td>2.237976e-01</td>\n",
       "      <td>3.463855</td>\n",
       "      <td>1.935000</td>\n",
       "      <td>0.111806</td>\n",
       "    </tr>\n",
       "    <tr>\n",
       "      <th>min</th>\n",
       "      <td>-878.860800</td>\n",
       "      <td>-15.009038</td>\n",
       "      <td>-10.015722</td>\n",
       "      <td>0.097316</td>\n",
       "      <td>103.100000</td>\n",
       "      <td>-9.700000</td>\n",
       "      <td>24.500000</td>\n",
       "      <td>10.250000</td>\n",
       "      <td>0.510000</td>\n",
       "      <td>3.700337</td>\n",
       "      <td>1.013245e-10</td>\n",
       "      <td>0.500000</td>\n",
       "      <td>0.172226</td>\n",
       "      <td>0.170717</td>\n",
       "    </tr>\n",
       "    <tr>\n",
       "      <th>25%</th>\n",
       "      <td>520.125410</td>\n",
       "      <td>-9.674298</td>\n",
       "      <td>-6.708209</td>\n",
       "      <td>4.860120</td>\n",
       "      <td>773.175000</td>\n",
       "      <td>-5.500000</td>\n",
       "      <td>29.600000</td>\n",
       "      <td>12.700000</td>\n",
       "      <td>0.590000</td>\n",
       "      <td>5.030630</td>\n",
       "      <td>5.133734e-02</td>\n",
       "      <td>1.500000</td>\n",
       "      <td>0.767032</td>\n",
       "      <td>0.460386</td>\n",
       "    </tr>\n",
       "    <tr>\n",
       "      <th>50%</th>\n",
       "      <td>661.308975</td>\n",
       "      <td>-7.205178</td>\n",
       "      <td>-4.463785</td>\n",
       "      <td>9.104626</td>\n",
       "      <td>1200.600000</td>\n",
       "      <td>-4.300000</td>\n",
       "      <td>30.800000</td>\n",
       "      <td>13.200000</td>\n",
       "      <td>0.620000</td>\n",
       "      <td>5.602896</td>\n",
       "      <td>1.647056e-01</td>\n",
       "      <td>2.800000</td>\n",
       "      <td>1.446648</td>\n",
       "      <td>0.528836</td>\n",
       "    </tr>\n",
       "    <tr>\n",
       "      <th>75%</th>\n",
       "      <td>763.366200</td>\n",
       "      <td>-4.182984</td>\n",
       "      <td>-2.015527</td>\n",
       "      <td>15.953242</td>\n",
       "      <td>1625.425000</td>\n",
       "      <td>-3.300000</td>\n",
       "      <td>32.100000</td>\n",
       "      <td>13.750000</td>\n",
       "      <td>0.650000</td>\n",
       "      <td>6.162058</td>\n",
       "      <td>3.058885e-01</td>\n",
       "      <td>4.700000</td>\n",
       "      <td>2.530662</td>\n",
       "      <td>0.599942</td>\n",
       "    </tr>\n",
       "    <tr>\n",
       "      <th>max</th>\n",
       "      <td>1122.252100</td>\n",
       "      <td>0.260756</td>\n",
       "      <td>1.696276</td>\n",
       "      <td>79.865960</td>\n",
       "      <td>2470.900000</td>\n",
       "      <td>-0.100000</td>\n",
       "      <td>37.800000</td>\n",
       "      <td>17.300000</td>\n",
       "      <td>0.820000</td>\n",
       "      <td>7.499959</td>\n",
       "      <td>9.954134e-01</td>\n",
       "      <td>15.000000</td>\n",
       "      <td>12.695224</td>\n",
       "      <td>0.898037</td>\n",
       "    </tr>\n",
       "  </tbody>\n",
       "</table>\n",
       "</div>"
      ],
      "text/plain": [
       "         Elevation     Latitude    Longitude        Slope     Rainfall  \\\n",
       "count  5654.000000  5654.000000  5654.000000  5654.000000  5654.000000   \n",
       "mean    625.468485    -7.026330    -4.365755    11.742669  1201.943244   \n",
       "std     213.768160     3.515839     2.706603     9.540599   499.782824   \n",
       "min    -878.860800   -15.009038   -10.015722     0.097316   103.100000   \n",
       "25%     520.125410    -9.674298    -6.708209     4.860120   773.175000   \n",
       "50%     661.308975    -7.205178    -4.463785     9.104626  1200.600000   \n",
       "75%     763.366200    -4.182984    -2.015527    15.953242  1625.425000   \n",
       "max    1122.252100     0.260756     1.696276    79.865960  2470.900000   \n",
       "\n",
       "       Min_temperature_C  Max_temperature_C    Ave_temps  Soil_fertility  \\\n",
       "count        5654.000000        5654.000000  5654.000000     5654.000000   \n",
       "mean           -4.411956          30.857057    13.222550        0.619308   \n",
       "std             1.534330           1.884682     0.801636        0.044791   \n",
       "min            -9.700000          24.500000    10.250000        0.510000   \n",
       "25%            -5.500000          29.600000    12.700000        0.590000   \n",
       "50%            -4.300000          30.800000    13.200000        0.620000   \n",
       "75%            -3.300000          32.100000    13.750000        0.650000   \n",
       "max            -0.100000          37.800000    17.300000        0.820000   \n",
       "\n",
       "                pH  Pollution_level    Plot_size    Crop_type  Standard_yield  \n",
       "count  5654.000000     5.654000e+03  5654.000000  5654.000000     5654.000000  \n",
       "mean      5.607073     2.231923e-01     3.923965     2.090399        0.534405  \n",
       "std       0.789215     2.237976e-01     3.463855     1.935000        0.111806  \n",
       "min       3.700337     1.013245e-10     0.500000     0.172226        0.170717  \n",
       "25%       5.030630     5.133734e-02     1.500000     0.767032        0.460386  \n",
       "50%       5.602896     1.647056e-01     2.800000     1.446648        0.528836  \n",
       "75%       6.162058     3.058885e-01     4.700000     2.530662        0.599942  \n",
       "max       7.499959     9.954134e-01    15.000000    12.695224        0.898037  "
      ]
     },
     "execution_count": 8,
     "metadata": {},
     "output_type": "execute_result"
    }
   ],
   "source": [
    "# Disoplay descriptive statistics on numerical columns\n",
    "MD_agric_df.describe()"
   ]
  },
  {
   "cell_type": "markdown",
   "id": "d5b3566c-5a91-4b15-af28-c390a6faba3a",
   "metadata": {},
   "source": [
    "If we observe the Elevation column, our statistics tell us that there's a negative minimum value, which means that the column probably has some negative values which are not plausible so we'll just change those back to positive values. Let's get a pick of the head just to see what's with the `Annual_yield` column being a text column."
   ]
  },
  {
   "cell_type": "code",
   "execution_count": 9,
   "id": "bb1232ed-100b-4072-b617-73835b517256",
   "metadata": {},
   "outputs": [
    {
     "data": {
      "text/html": [
       "<div>\n",
       "<style scoped>\n",
       "    .dataframe tbody tr th:only-of-type {\n",
       "        vertical-align: middle;\n",
       "    }\n",
       "\n",
       "    .dataframe tbody tr th {\n",
       "        vertical-align: top;\n",
       "    }\n",
       "\n",
       "    .dataframe thead th {\n",
       "        text-align: right;\n",
       "    }\n",
       "</style>\n",
       "<table border=\"1\" class=\"dataframe\">\n",
       "  <thead>\n",
       "    <tr style=\"text-align: right;\">\n",
       "      <th></th>\n",
       "      <th>Crop_type</th>\n",
       "      <th>Annual_yield</th>\n",
       "      <th>Standard_yield</th>\n",
       "    </tr>\n",
       "  </thead>\n",
       "  <tbody>\n",
       "    <tr>\n",
       "      <th>0</th>\n",
       "      <td>0.751354</td>\n",
       "      <td>cassava</td>\n",
       "      <td>0.577964</td>\n",
       "    </tr>\n",
       "    <tr>\n",
       "      <th>1</th>\n",
       "      <td>1.069865</td>\n",
       "      <td>cassava</td>\n",
       "      <td>0.486302</td>\n",
       "    </tr>\n",
       "    <tr>\n",
       "      <th>2</th>\n",
       "      <td>2.208801</td>\n",
       "      <td>tea</td>\n",
       "      <td>0.649647</td>\n",
       "    </tr>\n",
       "    <tr>\n",
       "      <th>3</th>\n",
       "      <td>1.277635</td>\n",
       "      <td>cassava</td>\n",
       "      <td>0.532348</td>\n",
       "    </tr>\n",
       "    <tr>\n",
       "      <th>4</th>\n",
       "      <td>0.832614</td>\n",
       "      <td>wheat</td>\n",
       "      <td>0.555076</td>\n",
       "    </tr>\n",
       "    <tr>\n",
       "      <th>5</th>\n",
       "      <td>1.112611</td>\n",
       "      <td>potato</td>\n",
       "      <td>0.654477</td>\n",
       "    </tr>\n",
       "  </tbody>\n",
       "</table>\n",
       "</div>"
      ],
      "text/plain": [
       "   Crop_type Annual_yield  Standard_yield\n",
       "0   0.751354      cassava        0.577964\n",
       "1   1.069865      cassava        0.486302\n",
       "2   2.208801          tea        0.649647\n",
       "3   1.277635      cassava        0.532348\n",
       "4   0.832614        wheat        0.555076\n",
       "5   1.112611       potato        0.654477"
      ]
     },
     "execution_count": 9,
     "metadata": {},
     "output_type": "execute_result"
    }
   ],
   "source": [
    "# Inspect the last three columns in the dataframe\n",
    "MD_agric_df.loc[:5, 'Crop_type':]"
   ]
  },
  {
   "cell_type": "markdown",
   "id": "522801a3-712c-4602-88bf-53dd304ce525",
   "metadata": {},
   "source": [
    "We can see mismatched column values with regard to their column names i.e `Crop_type` and `Annual_yield`. We'll assume that those columns were swapped during data entry. Let's go ahead and check what kind of values we have in the `Annual_yield` column which we will have to rename to `Crop_type` since it makes much more intuitive sense."
   ]
  },
  {
   "cell_type": "code",
   "execution_count": 10,
   "id": "ec8522cb-80f4-4b07-b667-50bcf5c5fdb0",
   "metadata": {},
   "outputs": [
    {
     "data": {
      "text/plain": [
       "array(['cassava', 'tea', 'wheat', 'potato', 'banana', 'coffee', 'rice',\n",
       "       'maize', 'wheat ', 'tea ', 'cassaval', 'wheatn', 'cassava ',\n",
       "       'teaa'], dtype=object)"
      ]
     },
     "execution_count": 10,
     "metadata": {},
     "output_type": "execute_result"
    }
   ],
   "source": [
    "# Inspect the unique values in 'Annual_yield' which should be 'Crop_type`\n",
    "MD_agric_df['Annual_yield'].unique()"
   ]
  },
  {
   "cell_type": "markdown",
   "id": "561fe9c1-a1b0-434f-8f07-aae5da99d3a6",
   "metadata": {},
   "source": [
    "Alright, so far, Here's the list of things that we picked up from the data and what we need to do:\n",
    "\n",
    "1. There are some swapped column names i.e `Crop_type` and `Annual_yield`. We need to swap those back. \n",
    "\n",
    "2. Some of the crop types contain spelling errors and so we need to rectify those as well.\n",
    "\n",
    "3.  The `Elevation` column contains some negative values, which are not plausible, so we need to change these to positive values."
   ]
  },
  {
   "cell_type": "code",
   "execution_count": 11,
   "id": "51e29f71-91b2-4c08-81f8-adc19d985c0b",
   "metadata": {},
   "outputs": [],
   "source": [
    "# Insert your code here\n",
    "# rename swapped column names\n",
    "MD_agric_df = MD_agric_df.rename(columns={'Crop_type': 'Annual_yield', \n",
    "                                          'Annual_yield': 'Crop_type'})\n",
    "\n",
    "# Clean the spelling errors in crop types column\n",
    "MD_agric_df['Crop_type'] = MD_agric_df['Crop_type'].map(\n",
    "    {'cassaval': 'cassava', \n",
    "     'wheatn': 'wheat', \n",
    "     'teaa': 'tea'}).fillna(MD_agric_df['Crop_type']).apply(lambda x: x.strip())\n",
    "\n",
    "# Update the negative values in Elevation column to positive values\n",
    "MD_agric_df['Elevation'] = MD_agric_df['Elevation'].apply(lambda x: abs(x))"
   ]
  },
  {
   "cell_type": "markdown",
   "id": "b5c0fed1",
   "metadata": {},
   "source": [
    "## Final data checkup"
   ]
  },
  {
   "cell_type": "markdown",
   "id": "321fdc11",
   "metadata": {},
   "source": [
    "Compare your answers to the expected output to make sure your data is corrected."
   ]
  },
  {
   "cell_type": "code",
   "execution_count": 12,
   "id": "3000a401",
   "metadata": {},
   "outputs": [
    {
     "data": {
      "text/plain": [
       "8"
      ]
     },
     "execution_count": 12,
     "metadata": {},
     "output_type": "execute_result"
    }
   ],
   "source": [
    "len(MD_agric_df['Crop_type'].unique())"
   ]
  },
  {
   "cell_type": "markdown",
   "id": "aa8309f1",
   "metadata": {},
   "source": [
    "Expected output: `8`"
   ]
  },
  {
   "cell_type": "code",
   "execution_count": 13,
   "id": "e1371959",
   "metadata": {},
   "outputs": [
    {
     "data": {
      "text/plain": [
       "35.910797"
      ]
     },
     "execution_count": 13,
     "metadata": {},
     "output_type": "execute_result"
    }
   ],
   "source": [
    "MD_agric_df['Elevation'].min()"
   ]
  },
  {
   "cell_type": "markdown",
   "id": "1ffa4440",
   "metadata": {},
   "source": [
    "Expected output: `35.910797`"
   ]
  },
  {
   "cell_type": "code",
   "execution_count": 14,
   "id": "87ba5369",
   "metadata": {},
   "outputs": [
    {
     "data": {
      "text/plain": [
       "dtype('float64')"
      ]
     },
     "execution_count": 14,
     "metadata": {},
     "output_type": "execute_result"
    }
   ],
   "source": [
    "MD_agric_df['Annual_yield'].dtype"
   ]
  },
  {
   "cell_type": "markdown",
   "id": "0697d96b",
   "metadata": {},
   "source": [
    "Expected outcome: `dtype('float64')`"
   ]
  },
  {
   "cell_type": "markdown",
   "id": "0324a485",
   "metadata": {},
   "source": [
    "## Exploratory Data Analysis (EDA)"
   ]
  },
  {
   "cell_type": "markdown",
   "id": "9a1fddb1",
   "metadata": {},
   "source": [
    "### Uncovering crop preferences"
   ]
  },
  {
   "cell_type": "markdown",
   "id": "55b8dc1b",
   "metadata": {},
   "source": [
    "Now that we have our data ready, let's delve into understanding where different crops are grown in Maji Ndogo. Our initial step is to focus on tea, a key crop in Maji Ndogo. We need to determine the optimal conditions for its growth. By analyzing data related to elevation, rainfall, and soil type specifically for tea plantations, we'll start to paint a picture of where our farming systems could thrive.\n",
    "\n",
    "**Task:**\n",
    "Create a function that includes only tea fields and returns a tuple with the mean `Rainfall` and the mean `Elevation`. The function should input the full DataFrame, a string value for the crop type to filter by, and output a tuple with rainfall and elevation.\n"
   ]
  },
  {
   "cell_type": "code",
   "execution_count": 15,
   "id": "86896dc5",
   "metadata": {},
   "outputs": [],
   "source": [
    "### START FUNCTION\n",
    "def explore_crop_distribution(df,crop_filter):\n",
    "    # Insert your code here\n",
    "    crop_filtered_df = df[df['Crop_type'] == crop_filter]\n",
    "    mean_rainfall = crop_filtered_df['Rainfall'].mean()\n",
    "    mean_elevation = crop_filtered_df['Elevation'].mean()\n",
    "    return mean_rainfall, mean_elevation\n",
    "### END FUNCTION"
   ]
  },
  {
   "cell_type": "markdown",
   "id": "9be4474e",
   "metadata": {},
   "source": [
    "Input:"
   ]
  },
  {
   "cell_type": "code",
   "execution_count": 16,
   "id": "66ca9510",
   "metadata": {},
   "outputs": [
    {
     "data": {
      "text/plain": [
       "(1534.5079956188388, 775.208667535597)"
      ]
     },
     "execution_count": 16,
     "metadata": {},
     "output_type": "execute_result"
    }
   ],
   "source": [
    "explore_crop_distribution(MD_agric_df, \"tea\")"
   ]
  },
  {
   "cell_type": "markdown",
   "id": "2ae64880",
   "metadata": {},
   "source": [
    "Expected output: `(1534.5079956188388, 775.208667535597)`"
   ]
  },
  {
   "cell_type": "code",
   "execution_count": 17,
   "id": "56d76595",
   "metadata": {},
   "outputs": [
    {
     "data": {
      "text/plain": [
       "(1010.2859910581222, 595.8384148002981)"
      ]
     },
     "execution_count": 17,
     "metadata": {},
     "output_type": "execute_result"
    }
   ],
   "source": [
    "explore_crop_distribution(MD_agric_df, \"wheat\")"
   ]
  },
  {
   "cell_type": "markdown",
   "id": "74cd8725",
   "metadata": {},
   "source": [
    "Expected output: `(1010.2859910581222, 595.8384148002981)`"
   ]
  },
  {
   "cell_type": "markdown",
   "id": "78795c87",
   "metadata": {},
   "source": [
    "Repeat this for a couple of crops to get a feeling for where crops are planted in Majio Ndogo."
   ]
  },
  {
   "cell_type": "markdown",
   "id": "2372ccb9",
   "metadata": {},
   "source": [
    "## Challenge 2: Finding fertile grounds\n"
   ]
  },
  {
   "cell_type": "markdown",
   "id": "628c4cc1",
   "metadata": {},
   "source": [
    "With insights into tea cultivation, let's broaden our horizons. Fertile soil is the bedrock of successful farming. By grouping our data by location and soil type, we'll pinpoint where the most fertile soils in Maji Ndogo are. These fertile zones could be prime candidates for diverse crop cultivation, maximising our yield.\n",
    "\n",
    "We’ll group our data by soil type to see where the most fertile grounds are. This information will be vital for deciding where to deploy our farming technology.\n",
    "\n",
    "**Task:** Create a function that groups the data by `Soil_type`, and returns the `Soil_fertility`."
   ]
  },
  {
   "cell_type": "code",
   "execution_count": null,
   "id": "064f3d6b",
   "metadata": {},
   "outputs": [],
   "source": [
    "### START FUNCTION\n",
    "def analyse_soil_fertility(df):\n",
    "    # Insert your code here\n",
    "### END FUNCTION"
   ]
  },
  {
   "cell_type": "markdown",
   "id": "39424119",
   "metadata": {},
   "source": [
    "Input:"
   ]
  },
  {
   "cell_type": "code",
   "execution_count": null,
   "id": "bc11f72f",
   "metadata": {},
   "outputs": [],
   "source": [
    "analyse_soil_fertility(MD_agric_df)"
   ]
  },
  {
   "cell_type": "markdown",
   "id": "788a7f56",
   "metadata": {},
   "source": [
    "Expected output:\n",
    "```python Soil_Type\n",
    "Loamy       0.585868\n",
    "Peaty       0.604882\n",
    "Rocky       0.582368\n",
    "Sandy       0.595669\n",
    "Silt        0.652654\n",
    "Volcanic    0.648894\n",
    "Name: Soil_Fertility, dtype: float64\n",
    "```"
   ]
  },
  {
   "cell_type": "markdown",
   "id": "e9b1845f",
   "metadata": {},
   "source": [
    "Try digging into the data a bit more by aggregating various data to identify some more patterns. "
   ]
  },
  {
   "cell_type": "markdown",
   "id": "8e2d8de9",
   "metadata": {},
   "source": [
    "## Challenge 3: Climate and geography analysis"
   ]
  },
  {
   "cell_type": "markdown",
   "id": "8cc62613",
   "metadata": {},
   "source": [
    "Now, let's delve into how climate and geography influence farming. By understanding the relationship between factors like elevation, temperature, and rainfall with crop yields, we can identify the most suitable areas for different crops. This analysis is key to ensuring our automated systems are deployed in locations that will maximise their effectiveness.\n",
    "\n",
    "**Task:** Create a function that takes in a DataFrame and the column name, and groups the data by that column, and aggregates the data by the means of `Elevation`, `Min_temperature_C`, `Max_temperature_C`, and `Rainfall`, and outputs a DataFrame. Please ensure that the order of the columns matches the output."
   ]
  },
  {
   "cell_type": "code",
   "execution_count": null,
   "id": "29474e68",
   "metadata": {},
   "outputs": [],
   "source": [
    "### START FUNCTION\n",
    "def climate_geography_influence(df,column):\n",
    "    # Insert your code here\n",
    "### END FUNCTION"
   ]
  },
  {
   "cell_type": "markdown",
   "id": "6448a869",
   "metadata": {},
   "source": [
    "Input:"
   ]
  },
  {
   "cell_type": "code",
   "execution_count": null,
   "id": "4c214f59",
   "metadata": {},
   "outputs": [],
   "source": [
    "climate_geography_influence(MD_agric_df, 'Crop_type')"
   ]
  },
  {
   "cell_type": "markdown",
   "id": "802ce1a4",
   "metadata": {},
   "source": [
    "Expected output:\n",
    "\n",
    "```sql\n",
    "Crop_type \tElevation\tMin_temperature_C\tMax_temperature_C\tRainfall\t\t\t\n",
    "banana\t\t487.973572\t-5.354344\t\t31.988152\t    1659.905687\n",
    "cassava\t\t682.903008\t-3.992113\t\t30.902381\t    1210.543006\n",
    "coffee\t\t647.047734\t-4.028007\t\t30.855189\t    1527.265074\n",
    "maize\t\t680.596982\t-4.497995\t\t30.576692\t    681.010276\n",
    "potato\t\t696.313917\t-4.375334\t\t30.300608\t    660.289064\n",
    "rice\t\t352.858053\t-6.610566\t\t32.727170\t    1632.382642\n",
    "tea\t\t775.208668\t-2.862651\t\t29.950383\t    1534.507996\n",
    "wheat\t\t595.838415\t-4.968107\t\t30.973845\t    1010.285991\n",
    "```"
   ]
  },
  {
   "cell_type": "markdown",
   "id": "977babed",
   "metadata": {},
   "source": [
    "## Challenge 4: Advanced sorting techniques"
   ]
  },
  {
   "cell_type": "markdown",
   "id": "ebf9f6f7",
   "metadata": {},
   "source": [
    "Quite often it is better to improve the things you're good at than improving the things you're bad at. So the question is, which crop is the top performer in Maji Ndogo, and under what conditions does it perform well? \n",
    "\n",
    "To answer this, we need to:\n",
    "1. Filter all the fields with an above-average `Standard_yield` (do you have flashbacks to SQL subqueries right now?).\n",
    "2. Then group by <?> crop type, using `count()`.\n",
    "3. Sort the values to get the top crop type on top.\n",
    "4. Retrieve the name of the top index. See the hint below on how to do this. \n",
    "\n",
    "**Task:** Create a function that takes a DataFrame as input, filters, groups and sorts, and outputs a string value of a crop type."
   ]
  },
  {
   "cell_type": "markdown",
   "id": "13b3d881",
   "metadata": {},
   "source": [
    "**Hint:** When you have grouped by a column, we can access the labels of that \"index column\" using `.index`. For example: "
   ]
  },
  {
   "cell_type": "code",
   "execution_count": null,
   "id": "c0deef7c",
   "metadata": {},
   "outputs": [],
   "source": [
    "grouped_df = MD_agric_df.groupby(\"Soil_type\").mean(numeric_only = True).sort_values(by=\"Elevation\",ascending=False)\n",
    "print(grouped_df.index[0])\n",
    "grouped_df"
   ]
  },
  {
   "cell_type": "code",
   "execution_count": null,
   "id": "4a4791a6",
   "metadata": {},
   "outputs": [],
   "source": [
    "### START FUNCTION\n",
    "def find_ideal_fields(df):\n",
    "    # Insert your code here\n",
    "### END FUNCTION"
   ]
  },
  {
   "cell_type": "markdown",
   "id": "7efcc079",
   "metadata": {},
   "source": [
    "Input:"
   ]
  },
  {
   "cell_type": "code",
   "execution_count": null,
   "id": "01448eb0",
   "metadata": {},
   "outputs": [],
   "source": [
    "type(find_ideal_fields(MD_agric_df))"
   ]
  },
  {
   "cell_type": "markdown",
   "id": "8fd44b50",
   "metadata": {},
   "source": [
    "Expected output: `str`"
   ]
  },
  {
   "cell_type": "markdown",
   "id": "ad7289df",
   "metadata": {},
   "source": [
    "# Challenge 5: Advanced filtering techniques"
   ]
  },
  {
   "cell_type": "markdown",
   "id": "7956f3ab",
   "metadata": {},
   "source": [
    "Now we know that <?> is our most successful crop, we can look at what makes it successful.\n",
    "\n",
    "Create a function that takes a DataFrame as input, and the type of crop, and filters the DataFrame using the following conditions:\n",
    "1. Filter by crop type.\n",
    "\n",
    "2. Select only rows that have above average `Standard_yield`.\n",
    "\n",
    "3. Select only rows that have `Ave_temps` >= 12 but =< 15.\n",
    "\n",
    "4. Have a `Pollution_level` lower than 0.0001."
   ]
  },
  {
   "cell_type": "code",
   "execution_count": null,
   "id": "b99d9e12",
   "metadata": {},
   "outputs": [],
   "source": [
    "### START FUNCTION\n",
    "def find_good_conditions(df, crop_type):\n",
    "    # Insert your code here\n",
    "### END FUNCTION"
   ]
  },
  {
   "cell_type": "markdown",
   "id": "c5bc44d2",
   "metadata": {},
   "source": [
    "Input:"
   ]
  },
  {
   "cell_type": "code",
   "execution_count": null,
   "id": "209203d1",
   "metadata": {},
   "outputs": [],
   "source": [
    "find_good_conditions(MD_agric_df, \"tea\").shape"
   ]
  },
  {
   "cell_type": "markdown",
   "id": "a522fb89",
   "metadata": {},
   "source": [
    "Expected output: `(14, 17)`"
   ]
  },
  {
   "cell_type": "markdown",
   "id": "463b4aa3",
   "metadata": {},
   "source": [
    "# Extra Pandas \"nuggets\""
   ]
  },
  {
   "cell_type": "markdown",
   "id": "c2ffa827",
   "metadata": {},
   "source": [
    "We have not even scratched the surface of Pandas or our dataset. If you remember back to your days with Chidi, it took a while before we could unlock the secrets the survey data had. So, scratch around a bit.\n",
    "\n",
    "On the Pandas front, it's the same. Pandas is a very powerful data analysis tool that takes a while to master. Many of the more advanced methods like window functions, dynamically retrieving or changing data, vectorisation, or processing big data with Pandas are all more advanced topics we encounter in the workplace.\n",
    "\n",
    "But here are two tiny 'nuggets' to upskill in Pandas."
   ]
  },
  {
   "cell_type": "markdown",
   "id": "184dc608",
   "metadata": {},
   "source": [
    "## df.query()"
   ]
  },
  {
   "cell_type": "markdown",
   "id": "026086fc",
   "metadata": {},
   "source": [
    "Oh, you're going to love this one... `df.query()` was designed to filter data, but using SQL-like syntax. For example:"
   ]
  },
  {
   "cell_type": "code",
   "execution_count": null,
   "id": "a3d22c0b",
   "metadata": {},
   "outputs": [],
   "source": [
    "MD_agric_df.query('Standard_yield > 0.5 and Soil_type == \"Loamy\"')"
   ]
  },
  {
   "cell_type": "markdown",
   "id": "afdb4b96",
   "metadata": {},
   "source": [
    "Isn't that much easier to read and understand than the one below?"
   ]
  },
  {
   "cell_type": "code",
   "execution_count": null,
   "id": "b0cb4b7b",
   "metadata": {},
   "outputs": [],
   "source": [
    "MD_agric_df[(MD_agric_df['Standard_yield'] > 0.5) & (MD_agric_df['Soil_type'] == 'Loamy')]"
   ]
  },
  {
   "cell_type": "markdown",
   "id": "ae060c3f",
   "metadata": {},
   "source": [
    "The nice thing is, we can use `in []`, `not in []` to filter with, and also pass in variables using `@variable_name`."
   ]
  },
  {
   "cell_type": "code",
   "execution_count": null,
   "id": "91cde683",
   "metadata": {},
   "outputs": [],
   "source": [
    "soil_types = ['Loamy', 'Sandy', 'Silt']\n",
    "\n",
    "MD_agric_df.query('Soil_type in @soil_types')"
   ]
  },
  {
   "cell_type": "markdown",
   "id": "f5b3f939",
   "metadata": {},
   "source": [
    "# Plotting data with Pandas"
   ]
  },
  {
   "cell_type": "markdown",
   "id": "757d5c23",
   "metadata": {},
   "source": [
    "Sometimes we quickly want to see a basic visualisation of our data. we can use `df.plot(kind='bar')` to make a bar plot, `df.plot(kind='hist', bins = 10)` to see the distribution of a data column, or `df.plot(kind='scatter', x='Column_on_x', y='Column_on_y')` to understand the relationship between variables."
   ]
  },
  {
   "cell_type": "code",
   "execution_count": null,
   "id": "2da1e0bc",
   "metadata": {},
   "outputs": [],
   "source": [
    "MD_agric_df.groupby('Crop_type')['Standard_yield'].mean().plot(kind='bar')"
   ]
  },
  {
   "cell_type": "code",
   "execution_count": null,
   "id": "7fff3aab",
   "metadata": {},
   "outputs": [],
   "source": [
    "MD_agric_df['Standard_yield'].plot(kind='hist', bins =20)"
   ]
  },
  {
   "cell_type": "code",
   "execution_count": null,
   "id": "8570713a",
   "metadata": {},
   "outputs": [],
   "source": [
    "MD_agric_df.plot(kind='scatter', x = \"Pollution_level\", y = \"Standard_yield\")"
   ]
  },
  {
   "cell_type": "markdown",
   "id": "383a7d2a",
   "metadata": {},
   "source": [
    "We can use these plots to get a quick feel for the data, but we can't really customise these much. For that we need some better tools. "
   ]
  },
  {
   "cell_type": "markdown",
   "id": "26fd094b-0fee-46f1-a4b8-73766813c42b",
   "metadata": {
    "tags": []
   },
   "source": [
    "#  \n",
    "\n",
    "<div align=\"center\" style=\" font-size: 80%; text-align: center; margin: 0 auto\">\n",
    "<img src=\"https://raw.githubusercontent.com/Explore-AI/Pictures/master/ExploreAI_logos/EAI_Blue_Dark.png\"  style=\"width:200px\";/>\n",
    "</div>"
   ]
  }
 ],
 "metadata": {
  "kernelspec": {
   "display_name": "Python 3 (ipykernel)",
   "language": "python",
   "name": "python3"
  },
  "language_info": {
   "codemirror_mode": {
    "name": "ipython",
    "version": 3
   },
   "file_extension": ".py",
   "mimetype": "text/x-python",
   "name": "python",
   "nbconvert_exporter": "python",
   "pygments_lexer": "ipython3",
   "version": "3.11.7"
  }
 },
 "nbformat": 4,
 "nbformat_minor": 5
}
